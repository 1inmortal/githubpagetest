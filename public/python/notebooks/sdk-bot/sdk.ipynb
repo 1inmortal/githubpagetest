{
 "cells": [
  {
   "cell_type": "code",
   "execution_count": 1,
   "id": "c0620c98",
   "metadata": {},
   "outputs": [
    {
     "name": "stdout",
     "output_type": "stream",
     "text": [
      "Note: you may need to restart the kernel to use updated packages.\n"
     ]
    }
   ],
   "source": [
    "%pip install -q requests python-dotenv\n"
   ]
  },
  {
   "cell_type": "code",
   "execution_count": 2,
   "id": "40a4e4d8",
   "metadata": {},
   "outputs": [
    {
     "name": "stdout",
     "output_type": "stream",
     "text": [
      "Usando .env: c:\\Users\\INMORTAL\\OneDrive\\Documentos\\python\\notebooks\\sdk-bot\\.env\n"
     ]
    },
    {
     "ename": "SystemExit",
     "evalue": "Faltan variables en .env: CLOUD_API_ACCESS_TOKEN. Edita notebooks/sdk-bot/.env y vuelve a ejecutar.",
     "output_type": "error",
     "traceback": [
      "An exception has occurred, use %tb to see the full traceback.\n",
      "\u001b[31mSystemExit\u001b[39m\u001b[31m:\u001b[39m Faltan variables en .env: CLOUD_API_ACCESS_TOKEN. Edita notebooks/sdk-bot/.env y vuelve a ejecutar.\n"
     ]
    },
    {
     "name": "stderr",
     "output_type": "stream",
     "text": [
      "C:\\Users\\INMORTAL\\AppData\\Local\\Packages\\PythonSoftwareFoundation.Python.3.13_qbz5n2kfra8p0\\LocalCache\\local-packages\\Python313\\site-packages\\IPython\\core\\interactiveshell.py:3707: UserWarning: To exit: use 'exit', 'quit', or Ctrl-D.\n",
      "  warn(\"To exit: use 'exit', 'quit', or Ctrl-D.\", stacklevel=1)\n"
     ]
    }
   ],
   "source": [
    "import os\n",
    "import requests\n",
    "from dotenv import load_dotenv, find_dotenv\n",
    "\n",
    "# Carga variables de entorno desde .env (busca automáticamente en el árbol)\n",
    "env_path = find_dotenv(filename=\".env\", usecwd=True)\n",
    "if not env_path:\n",
    "    raise SystemExit(\n",
    "        \"No se encontró archivo .env. Crea uno en notebooks/sdk-bot/.env con: \"\n",
    "        \"WA_PHONE_NUMBER_ID y CLOUD_API_ACCESS_TOKEN\"\n",
    "    )\n",
    "load_dotenv(env_path)\n",
    "print(f\"Usando .env: {env_path}\")\n",
    "\n",
    "PHONE_NUMBER_ID = os.getenv(\"WA_PHONE_NUMBER_ID\")\n",
    "TOKEN = os.getenv(\"CLOUD_API_ACCESS_TOKEN\")\n",
    "API_VERSION = os.getenv(\"CLOUD_API_VERSION\", \"v16.0\")\n",
    "RECIPIENT_NUMBER = \"528998733022\"  # Formato internacional, p. ej., 5215555555555\n",
    "\n",
    "missing = [name for name, val in {\n",
    "    \"WA_PHONE_NUMBER_ID\": PHONE_NUMBER_ID,\n",
    "    \"CLOUD_API_ACCESS_TOKEN\": TOKEN,\n",
    "}.items() if not val]\n",
    "if missing:\n",
    "    raise SystemExit(\n",
    "        \"Faltan variables en .env: \" + \", \".join(missing) +\n",
    "        \". Edita notebooks/sdk-bot/.env y vuelve a ejecutar.\"\n",
    "    )\n",
    "\n",
    "url = f\"https://graph.facebook.com/{API_VERSION}/{PHONE_NUMBER_ID}/messages\"\n",
    "headers = {\n",
    "    \"Authorization\": f\"Bearer {TOKEN}\",\n",
    "    \"Content-Type\": \"application/json\",\n",
    "}\n",
    "payload = {\n",
    "    \"messaging_product\": \"whatsapp\",\n",
    "    \"to\": RECIPIENT_NUMBER,\n",
    "    \"type\": \"text\",\n",
    "    \"text\": {\"body\": \"Hello world\"},\n",
    "}\n",
    "\n",
    "try:\n",
    "    response = requests.post(url, headers=headers, json=payload, timeout=30)\n",
    "    print(response.status_code)\n",
    "    print(response.text)\n",
    "except requests.RequestException as exc:\n",
    "    print(f\"Error al enviar la solicitud: {exc}\")"
   ]
  }
 ],
 "metadata": {
  "kernelspec": {
   "display_name": "Python 3",
   "language": "python",
   "name": "python3"
  },
  "language_info": {
   "codemirror_mode": {
    "name": "ipython",
    "version": 3
   },
   "file_extension": ".py",
   "mimetype": "text/x-python",
   "name": "python",
   "nbconvert_exporter": "python",
   "pygments_lexer": "ipython3",
   "version": "3.13.9"
  }
 },
 "nbformat": 4,
 "nbformat_minor": 5
}
