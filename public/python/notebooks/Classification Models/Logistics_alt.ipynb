{
  "cells": [
    {
      "cell_type": "markdown",
      "metadata": {},
      "source": [
        "# Clasificadores (RL, KNN, SVM) con scikit-learn\n",
        "\n",
        "Este notebook presenta paso a paso: 1) importaciones, 2) carga y preparación de datos, 3) entrenamiento/evaluación de Regresión Logística, KNN y SVM, y 4) comparación de resultados. Incluye nota sobre la visualización de la matriz de confusión.\n"
      ]
    },
    {
      "cell_type": "code",
      "execution_count": 1,
      "metadata": {},
      "outputs": [],
      "source": [
        "\n",
        "# 1. Importación de Librerías (Librerías Necesarias)\n",
        "# Dataset y preprocesamiento\n",
        "from sklearn import datasets\n",
        "from sklearn.datasets import load_breast_cancer  # Dataset de práctica (scikit-learn)\n",
        "from sklearn.model_selection import train_test_split  # División train/test\n",
        "\n",
        "# Modelos\n",
        "from sklearn.linear_model import LogisticRegression\n",
        "from sklearn.neighbors import KNeighborsClassifier\n",
        "from sklearn.svm import SVC\n",
        "\n",
        "# Evaluación y visualización\n",
        "from sklearn.metrics import accuracy_score, confusion_matrix\n",
        "import matplotlib.pyplot as plt  # Matplotlib\n",
        "import seaborn as sns  # Seaborn\n",
        "import pandas as pd\n"
      ]
    },
    {
      "cell_type": "code",
      "execution_count": 2,
      "metadata": {},
      "outputs": [
        {
          "data": {
            "text/plain": [
              "((398, 30), (171, 30))"
            ]
          },
          "execution_count": 2,
          "metadata": {},
          "output_type": "execute_result"
        }
      ],
      "source": [
        "# 2. Carga y Preparación de la Base de Datos\n",
        "# Carga del dataset de cáncer y definición de X (características) e Y (target)\n",
        "cancer = load_breast_cancer()\n",
        "X = cancer.data   # 30 características (descriptores del tumor)\n",
        "Y = cancer.target # 569 etiquetas (0: benigno, 1: maligno)\n",
        "\n",
        "# División del conjunto (70% train, 30% test)\n",
        "X_train, X_test, Y_train, Y_test = train_test_split(X, Y, test_size=0.3, random_state=42, stratify=Y)\n",
        "X_train.shape, X_test.shape\n"
      ]
    },
    {
      "cell_type": "code",
      "execution_count": 3,
      "metadata": {},
      "outputs": [
        {
          "data": {
            "text/plain": [
              "0.9415204678362573"
            ]
          },
          "execution_count": 3,
          "metadata": {},
          "output_type": "execute_result"
        }
      ],
      "source": [
        "# 3. Implementación del Modelo: Regresión Logística (RL)\n",
        "# Creación y ajuste del modelo\n",
        "modelo_RL = LogisticRegression(solver='liblinear', max_iter=1000)\n",
        "modelo_RL.fit(X_train, Y_train)\n",
        "\n",
        "# Predicción y métricas\n",
        "prediccion_RL = modelo_RL.predict(X_test)\n",
        "AS_RL = accuracy_score(Y_test, prediccion_RL)\n",
        "cm_RL = confusion_matrix(Y_test, prediccion_RL)\n",
        "AS_RL\n"
      ]
    },
    {
      "cell_type": "code",
      "execution_count": 4,
      "metadata": {},
      "outputs": [
        {
          "data": {
            "text/plain": [
              "0.9181286549707602"
            ]
          },
          "execution_count": 4,
          "metadata": {},
          "output_type": "execute_result"
        }
      ],
      "source": [
        "# 4. Implementación del Modelo: K-Nearest Neighbors (KNN)\n",
        "# Creación (K=3) y ajuste del modelo\n",
        "modelo_KNN = KNeighborsClassifier(n_neighbors=3)\n",
        "modelo_KNN.fit(X_train, Y_train)\n",
        "\n",
        "# Predicción y métricas\n",
        "prediccion_KNN = modelo_KNN.predict(X_test)\n",
        "AS_KNN = accuracy_score(Y_test, prediccion_KNN)\n",
        "cm_KNN = confusion_matrix(Y_test, prediccion_KNN)\n",
        "AS_KNN\n"
      ]
    },
    {
      "cell_type": "code",
      "execution_count": 5,
      "metadata": {},
      "outputs": [
        {
          "data": {
            "text/plain": [
              "0.9064327485380117"
            ]
          },
          "execution_count": 5,
          "metadata": {},
          "output_type": "execute_result"
        }
      ],
      "source": [
        "# 5. Implementación del Modelo: Support Vector Machine (SVM)\n",
        "# Creación (kernel polinomial, grado 2) y ajuste del modelo\n",
        "modelo_SVM = SVC(kernel='poly', degree=2)\n",
        "modelo_SVM.fit(X_train, Y_train)\n",
        "\n",
        "# Predicción y métricas\n",
        "prediccion_SVM = modelo_SVM.predict(X_test)\n",
        "AS_SVM = accuracy_score(Y_test, prediccion_SVM)\n",
        "cm_SVM = confusion_matrix(Y_test, prediccion_SVM)\n",
        "AS_SVM\n"
      ]
    },
    {
      "cell_type": "code",
      "execution_count": 6,
      "metadata": {},
      "outputs": [
        {
          "name": "stdout",
          "output_type": "stream",
          "text": [
            "Accuracy Regresión Logística: 0.9415204678362573\n",
            "Accuracy KNN: 0.9181286549707602\n",
            "Accuracy SVM: 0.9064327485380117\n"
          ]
        },
        {
          "data": {
            "text/html": [
              "<div>\n",
              "<style scoped>\n",
              "    .dataframe tbody tr th:only-of-type {\n",
              "        vertical-align: middle;\n",
              "    }\n",
              "\n",
              "    .dataframe tbody tr th {\n",
              "        vertical-align: top;\n",
              "    }\n",
              "\n",
              "    .dataframe thead th {\n",
              "        text-align: right;\n",
              "    }\n",
              "</style>\n",
              "<table border=\"1\" class=\"dataframe\">\n",
              "  <thead>\n",
              "    <tr style=\"text-align: right;\">\n",
              "      <th></th>\n",
              "      <th>Modelo</th>\n",
              "      <th>Accuracy</th>\n",
              "    </tr>\n",
              "  </thead>\n",
              "  <tbody>\n",
              "    <tr>\n",
              "      <th>0</th>\n",
              "      <td>Regresión Logística</td>\n",
              "      <td>0.941520</td>\n",
              "    </tr>\n",
              "    <tr>\n",
              "      <th>1</th>\n",
              "      <td>KNN (k=3)</td>\n",
              "      <td>0.918129</td>\n",
              "    </tr>\n",
              "    <tr>\n",
              "      <th>2</th>\n",
              "      <td>SVM (poly, grado=2)</td>\n",
              "      <td>0.906433</td>\n",
              "    </tr>\n",
              "  </tbody>\n",
              "</table>\n",
              "</div>"
            ],
            "text/plain": [
              "                Modelo  Accuracy\n",
              "0  Regresión Logística  0.941520\n",
              "1            KNN (k=3)  0.918129\n",
              "2  SVM (poly, grado=2)  0.906433"
            ]
          },
          "execution_count": 6,
          "metadata": {},
          "output_type": "execute_result"
        }
      ],
      "source": [
        "# 6. Comparación de Resultados\n",
        "print(\"Accuracy Regresión Logística:\", AS_RL)\n",
        "print(\"Accuracy KNN:\", AS_KNN)\n",
        "print(\"Accuracy SVM:\", AS_SVM)\n",
        "\n",
        "# Tabla comparativa opcional\n",
        "pd.DataFrame({\n",
        "    'Modelo': ['Regresión Logística', 'KNN (k=3)', 'SVM (poly, grado=2)'],\n",
        "    'Accuracy': [AS_RL, AS_KNN, AS_SVM]\n",
        "}).sort_values('Accuracy', ascending=False).reset_index(drop=True)\n"
      ]
    },
    {
      "cell_type": "markdown",
      "metadata": {},
      "source": [
        "Nota sobre la Matriz de Confusión Gráfica\n",
        "\n",
        "Para visualizar la matriz de confusión (con Seaborn/Matplotlib), puede usarse un heatmap como en el notebook original, enfocándose en ejes (estimado vs. verdadero) y cuadrantes (VP, FP, VN, FN). Ejemplo breve:\n",
        "\n",
        "```python\n",
        "plt.figure(figsize=(6, 4))\n",
        "sns.heatmap(cm_RL, annot=True, fmt='d', cmap='Blues', cbar=False,\n",
        "            xticklabels=['Benigno (0)', 'Maligno (1)'],\n",
        "            yticklabels=['Benigno (0)', 'Maligno (1)'])\n",
        "plt.ylabel('Etiqueta Estimada (Predicción)')\n",
        "plt.xlabel('Etiqueta Verdadera')\n",
        "plt.title('Matriz de Confusión - Regresión Logística')\n",
        "plt.show()\n",
        "```\n",
        "\n"
      ]
    }
  ],
  "metadata": {
    "kernelspec": {
      "display_name": "Python 3",
      "language": "python",
      "name": "python3"
    },
    "language_info": {
      "codemirror_mode": {
        "name": "ipython",
        "version": 3
      },
      "file_extension": ".py",
      "mimetype": "text/x-python",
      "name": "python",
      "nbconvert_exporter": "python",
      "pygments_lexer": "ipython3",
      "version": "3.13.7"
    }
  },
  "nbformat": 4,
  "nbformat_minor": 2
}
