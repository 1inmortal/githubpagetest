{
  "cells": [
    {
      "cell_type": "markdown",
      "metadata": {},
      "source": [
        "# Modelos de Clasificación con scikit-learn\n",
        "\n",
        "Este notebook entrena y evalúa tres modelos: Regresión Logística, K-Nearest Neighbors (KNN) y Support Vector Machine (SVM), usando el dataset de cáncer de mama de scikit-learn. Se calcula `accuracy` y se visualiza la matriz de confusión para cada modelo.\n"
      ]
    },
    {
      "cell_type": "code",
      "execution_count": 9,
      "metadata": {},
      "outputs": [],
      "source": [
        "# 1. Importación de Librerías\n",
        "# Modelos y datasets\n",
        "from sklearn.datasets import load_breast_cancer\n",
        "from sklearn.linear_model import LogisticRegression\n",
        "from sklearn.neighbors import KNeighborsClassifier\n",
        "from sklearn.svm import SVC\n",
        "\n",
        "# División y evaluación\n",
        "from sklearn.model_selection import train_test_split\n",
        "from sklearn.metrics import accuracy_score, confusion_matrix\n",
        "\n",
        "# Visualización y tabulación\n",
        "import matplotlib.pyplot as plt\n",
        "import seaborn as sns\n",
        "import pandas as pd\n"
      ]
    },
    {
      "cell_type": "code",
      "execution_count": 10,
      "metadata": {},
      "outputs": [],
      "source": [
        "# 2. Carga y Definición de Datos (X e Y)\n",
        "# Carga el dataset de cáncer de mama preprocesado de scikit-learn.\n",
        "# X contiene las características numéricas y Y la etiqueta binaria (0: benigno, 1: maligno).\n",
        "cancer = load_breast_cancer()\n",
        "X = cancer.data  # características\n",
        "Y = cancer.target  # objetivo (0: benigno, 1: maligno)\n",
        "# print(X.shape); print(cancer.feature_names)  # Para explorar dimensiones y nombres de atributos\n"
      ]
    },
    {
      "cell_type": "code",
      "execution_count": 11,
      "metadata": {},
      "outputs": [
        {
          "data": {
            "text/plain": [
              "((398, 30), (171, 30))"
            ]
          },
          "execution_count": 11,
          "metadata": {},
          "output_type": "execute_result"
        }
      ],
      "source": [
        "# 3. División del Conjunto de Datos (Train-Test Split)\n",
        "# Se separa el conjunto en entrenamiento (70%) y prueba (30%).\n",
        "# random_state fija la aleatoriedad para reproducibilidad; stratify mantiene la proporción de clases.\n",
        "X_train, X_test, Y_train, Y_test = train_test_split(\n",
        "    X, Y, test_size=0.3, random_state=42, stratify=Y\n",
        ")\n",
        "X_train.shape, X_test.shape\n"
      ]
    },
    {
      "cell_type": "code",
      "execution_count": 12,
      "metadata": {},
      "outputs": [
        {
          "data": {
            "text/plain": [
              "0.9415204678362573"
            ]
          },
          "execution_count": 12,
          "metadata": {},
          "output_type": "execute_result"
        }
      ],
      "source": [
        "# 4. Modelo 1: Regresión Logística (RL)\n",
        "# Entrena un clasificador lineal para estimar probabilidad de clase y decidir con umbral 0.5.\n",
        "# solver='liblinear' es estable para datasets pequeños/medianos; max_iter asegura convergencia.\n",
        "modelo_RL = LogisticRegression(solver='liblinear', max_iter=1000)\n",
        "modelo_RL.fit(X_train, Y_train)\n",
        "\n",
        "# Predicción y evaluación\n",
        "prediccion_RL = modelo_RL.predict(X_test)\n",
        "AS_RL = accuracy_score(Y_test, prediccion_RL)\n",
        "cm_RL = confusion_matrix(Y_test, prediccion_RL)\n",
        "AS_RL\n"
      ]
    },
    {
      "cell_type": "code",
      "execution_count": 13,
      "metadata": {},
      "outputs": [
        {
          "data": {
            "text/plain": [
              "0.9181286549707602"
            ]
          },
          "execution_count": 13,
          "metadata": {},
          "output_type": "execute_result"
        }
      ],
      "source": [
        "# 5. Modelo 2: K-Nearest Neighbors (KNN)\n",
        "# Clasificador basado en vecinos más cercanos. n_neighbors=3 define K.\n",
        "modelo_KNN = KNeighborsClassifier(n_neighbors=3)\n",
        "modelo_KNN.fit(X_train, Y_train)\n",
        "\n",
        "# Predicción y evaluación\n",
        "prediccion_KNN = modelo_KNN.predict(X_test)\n",
        "AS_KNN = accuracy_score(Y_test, prediccion_KNN)\n",
        "cm_KNN = confusion_matrix(Y_test, prediccion_KNN)\n",
        "AS_KNN\n"
      ]
    },
    {
      "cell_type": "code",
      "execution_count": 14,
      "metadata": {},
      "outputs": [
        {
          "data": {
            "text/plain": [
              "0.9064327485380117"
            ]
          },
          "execution_count": 14,
          "metadata": {},
          "output_type": "execute_result"
        }
      ],
      "source": [
        "# 6. Modelo 3: Support Vector Machine (SVM)\n",
        "# Clasificador de máximo margen. Aquí usamos kernel polinomial de grado 2.\n",
        "modelo_SVM = SVC(kernel='poly', degree=2)\n",
        "modelo_SVM.fit(X_train, Y_train)\n",
        "\n",
        "# Predicción y evaluación\n",
        "prediccion_SVM = modelo_SVM.predict(X_test)\n",
        "AS_SVM = accuracy_score(Y_test, prediccion_SVM)\n",
        "cm_SVM = confusion_matrix(Y_test, prediccion_SVM)\n",
        "AS_SVM\n"
      ]
    },
    {
      "cell_type": "code",
      "execution_count": 15,
      "metadata": {},
      "outputs": [
        {
          "data": {
            "text/html": [
              "<div>\n",
              "<style scoped>\n",
              "    .dataframe tbody tr th:only-of-type {\n",
              "        vertical-align: middle;\n",
              "    }\n",
              "\n",
              "    .dataframe tbody tr th {\n",
              "        vertical-align: top;\n",
              "    }\n",
              "\n",
              "    .dataframe thead th {\n",
              "        text-align: right;\n",
              "    }\n",
              "</style>\n",
              "<table border=\"1\" class=\"dataframe\">\n",
              "  <thead>\n",
              "    <tr style=\"text-align: right;\">\n",
              "      <th></th>\n",
              "      <th>Modelo</th>\n",
              "      <th>Accuracy</th>\n",
              "    </tr>\n",
              "  </thead>\n",
              "  <tbody>\n",
              "    <tr>\n",
              "      <th>0</th>\n",
              "      <td>Regresión Logística</td>\n",
              "      <td>0.941520</td>\n",
              "    </tr>\n",
              "    <tr>\n",
              "      <th>1</th>\n",
              "      <td>KNN (k=3)</td>\n",
              "      <td>0.918129</td>\n",
              "    </tr>\n",
              "    <tr>\n",
              "      <th>2</th>\n",
              "      <td>SVM (poly, grado=2)</td>\n",
              "      <td>0.906433</td>\n",
              "    </tr>\n",
              "  </tbody>\n",
              "</table>\n",
              "</div>"
            ],
            "text/plain": [
              "                Modelo  Accuracy\n",
              "0  Regresión Logística  0.941520\n",
              "1            KNN (k=3)  0.918129\n",
              "2  SVM (poly, grado=2)  0.906433"
            ]
          },
          "execution_count": 15,
          "metadata": {},
          "output_type": "execute_result"
        }
      ],
      "source": [
        "# 7.b Tabla comparativa de accuracies\n",
        "# Creamos un DataFrame para resumir y ordenar las precisiones de cada modelo.\n",
        "resultados = pd.DataFrame({\n",
        "    'Modelo': ['Regresión Logística', 'KNN (k=3)', 'SVM (poly, grado=2)'],\n",
        "    'Accuracy': [AS_RL, AS_KNN, AS_SVM]\n",
        "}).sort_values('Accuracy', ascending=False).reset_index(drop=True)\n",
        "\n",
        "resultados\n"
      ]
    },
    {
      "cell_type": "code",
      "execution_count": 16,
      "metadata": {},
      "outputs": [
        {
          "name": "stdout",
          "output_type": "stream",
          "text": [
            "Precisión RL: 0.9415\n",
            "Precisión KNN: 0.9181\n",
            "Precisión SVM: 0.9064\n"
          ]
        }
      ],
      "source": [
        "# 7. Comparación de Resultados (Accuracy)\n",
        "# Se reporta el accuracy de cada modelo para comparar su desempeño de forma directa.\n",
        "print(f\"Precisión RL: {AS_RL:.4f}\")\n",
        "print(f\"Precisión KNN: {AS_KNN:.4f}\")\n",
        "print(f\"Precisión SVM: {AS_SVM:.4f}\")\n"
      ]
    },
    {
      "cell_type": "code",
      "execution_count": 17,
      "metadata": {},
      "outputs": [
        {
          "data": {
            "image/png": "[encoded data removed]",
            "text/plain": [
              "<Figure size 1400x400 with 3 Axes>"
            ]
          },
          "metadata": {},
          "output_type": "display_data"
        }
      ],
      "source": [
        "# 8. Visualización: Matrices de Confusión\n",
        "# Gráficos tipo heatmap para interpretar aciertos/errores por clase.\n",
        "fig, axes = plt.subplots(1, 3, figsize=(14, 4))\n",
        "\n",
        "def plot_cm(ax, cm, title):\n",
        "    sns.heatmap(cm, annot=True, fmt='d', cmap='Blues', cbar=False,\n",
        "                xticklabels=['Benigno (0)', 'Maligno (1)'],\n",
        "                yticklabels=['Benigno (0)', 'Maligno (1)'], ax=ax)\n",
        "    ax.set_xlabel('Etiqueta Verdadera')\n",
        "    ax.set_ylabel('Etiqueta Estimada (Predicción)')\n",
        "    ax.set_title(title)\n",
        "\n",
        "plot_cm(axes[0], cm_RL, 'Matriz de Confusión - Regresión Logística')\n",
        "plot_cm(axes[1], cm_KNN, 'Matriz de Confusión - KNN (k=3)')\n",
        "plot_cm(axes[2], cm_SVM, 'Matriz de Confusión - SVM (poly, grado=2)')\n",
        "plt.tight_layout()\n",
        "plt.show()\n"
      ]
    }
  ],
  "metadata": {
    "kernelspec": {
      "display_name": "Python 3",
      "language": "python",
      "name": "python3"
    },
    "language_info": {
      "codemirror_mode": {
        "name": "ipython",
        "version": 3
      },
      "file_extension": ".py",
      "mimetype": "text/x-python",
      "name": "python",
      "nbconvert_exporter": "python",
      "pygments_lexer": "ipython3",
      "version": "3.13.7"
    }
  },
  "nbformat": 4,
  "nbformat_minor": 2
}
