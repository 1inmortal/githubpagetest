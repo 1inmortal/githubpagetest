{
 "cells": [
  {
   "cell_type": "code",
   "execution_count": null,
   "id": "216f6a24",
   "metadata": {},
   "outputs": [],
   "source": [
    "import tensorflow as tf\n",
    "import matplotlib.pyplot as plt\n",
    "import numpy as np"
   ]
  },
  {
   "cell_type": "code",
   "execution_count": null,
   "id": "a6b6aed4",
   "metadata": {},
   "outputs": [],
   "source": [
    "from tensorflow.keras.datasets import mnist\n",
    "(x_train,y_train),(x_test,y_test)= mnist.load_data()"
   ]
  },
  {
   "cell_type": "code",
   "execution_count": null,
   "id": "2def7f50",
   "metadata": {},
   "outputs": [],
   "source": [
    "print(len(x_train)+len(x_test))\n",
    "print(len(x_train))+len(y_test)"
   ]
  },
  {
   "cell_type": "code",
   "execution_count": null,
   "id": "2bd9b482",
   "metadata": {},
   "outputs": [],
   "source": [
    "print(len(x_train))\n",
    "print(len(y_test))\n",
    "print(len(x_test))\n",
    "print(len(y_test))"
   ]
  },
  {
   "cell_type": "code",
   "execution_count": null,
   "id": "914b660a",
   "metadata": {},
   "outputs": [],
   "source": [
    "n = 0\n",
    "imagen= x_train[n]\n",
    "\n",
    "plt.imshow(imagen, camp='gray')\n",
    "plt.show()\n",
    "\n"
   ]
  },
  {
   "cell_type": "code",
   "execution_count": null,
   "id": "24b524ca",
   "metadata": {},
   "outputs": [],
   "source": [
    "imagen.shape"
   ]
  },
  {
   "cell_type": "code",
   "execution_count": null,
   "id": "8eb49754",
   "metadata": {},
   "outputs": [],
   "source": [
    "label= y_train[n]\n",
    "label"
   ]
  },
  {
   "cell_type": "code",
   "execution_count": null,
   "id": "67425a94",
   "metadata": {},
   "outputs": [],
   "source": [
    "num_rows , num_cols = 3,3\n",
    "fig, axes = plt.subplots(num_rows,num_cols,figsize=(1.5*num_cols,2*num_rows))\n",
    "\n",
    "random_indices = np.random.choice(len(x_train),num_rows*num_cols,replace=False)\n",
    "images = x_train[random_indices]\n",
    "labels = y_train[random_indices]\n",
    "\n",
    "for i, ax in enumerate(axes.flat):\n",
    "    ax.imshow(images[i], cmap='gray')\n",
    "    ax.set_title(f'Label: {labels[i]}')\n",
    "    plt.show()"
   ]
  },
  {
   "cell_type": "code",
   "execution_count": null,
   "id": "d2fd4769",
   "metadata": {},
   "outputs": [],
   "source": []
  },
  {
   "cell_type": "code",
   "execution_count": null,
   "id": "8339473a",
   "metadata": {},
   "outputs": [],
   "source": [
    "model= tf.keras.Sequential([tf.keras.layers.flatten(input_shape=(28,28)),\n",
    "                            \n",
    "                            tf.keras.layers.Dense(10,activation='softmax')])\n"
   ]
  },
  {
   "cell_type": "code",
   "execution_count": null,
   "id": "bd3027c4",
   "metadata": {},
   "outputs": [],
   "source": [
    "model.compile(optimizer='adam',loss='sparse_categorical_crossentropy',metrics=['accuracy'])"
   ]
  },
  {
   "cell_type": "code",
   "execution_count": null,
   "id": "f2b77738",
   "metadata": {},
   "outputs": [],
   "source": [
    "model.fit(x_train,y_train,epochs=5,validation_data=(x_test,y_test))"
   ]
  },
  {
   "cell_type": "code",
   "execution_count": null,
   "id": "310d62bf",
   "metadata": {},
   "outputs": [],
   "source": [
    "resultados= model.evaluate(x_test,y_test)\n",
    "resultados"
   ]
  }
 ],
 "metadata": {
  "language_info": {
   "name": "python"
  }
 },
 "nbformat": 4,
 "nbformat_minor": 5
}
